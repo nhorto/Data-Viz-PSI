{
 "cells": [
  {
   "cell_type": "code",
   "execution_count": null,
   "metadata": {},
   "outputs": [],
   "source": [
    "import pandas as pd\n",
    "import geopandas as gpd"
   ]
  },
  {
   "cell_type": "markdown",
   "metadata": {},
   "source": [
    "# read in data"
   ]
  },
  {
   "cell_type": "code",
   "execution_count": null,
   "metadata": {},
   "outputs": [],
   "source": [
    "pov = pd.read_csv('Poverty.csv')\n",
    "fina = pd.read_csv('Finance.csv')\n",
    "shp = gpd.read_file('combined_shapefiles.shp')"
   ]
  },
  {
   "cell_type": "markdown",
   "metadata": {},
   "source": [
    "# combine finace and shapefile"
   ]
  },
  {
   "cell_type": "code",
   "execution_count": null,
   "metadata": {},
   "outputs": [],
   "source": [
    "merged_df = pd.merge(shp, fina, left_on='GEOID', right_on='leaid', how='left')"
   ]
  },
  {
   "cell_type": "markdown",
   "metadata": {},
   "source": [
    "# combine poverty and shapefile"
   ]
  },
  {
   "cell_type": "code",
   "execution_count": null,
   "metadata": {},
   "outputs": [],
   "source": [
    "pov['leaid'] = pov['leaid'].astype(str)"
   ]
  },
  {
   "cell_type": "code",
   "execution_count": null,
   "metadata": {},
   "outputs": [],
   "source": [
    "merged_df2 = pd.merge(merged_df, pov, left_on='GEOID', right_on='leaid', how='left')"
   ]
  },
  {
   "cell_type": "markdown",
   "metadata": {},
   "source": [
    "# save data"
   ]
  },
  {
   "cell_type": "code",
   "execution_count": null,
   "metadata": {},
   "outputs": [],
   "source": [
    "merged_df2.to_file('finance_poverty_school_districts.shp')\n",
    "merged_df2.to_csv('finance_poverty_school_districts.csv')\n",
    "merged_df2.to_file('finance_poverty_school_districts.geojson')"
   ]
  },
  {
   "cell_type": "markdown",
   "metadata": {},
   "source": [
    "# combine with states"
   ]
  },
  {
   "cell_type": "code",
   "execution_count": null,
   "metadata": {},
   "outputs": [],
   "source": [
    "merged_df2.crs"
   ]
  },
  {
   "cell_type": "code",
   "execution_count": null,
   "metadata": {},
   "outputs": [],
   "source": [
    "test = gpd.read_file('/Users/nicholashorton/Documents/Data Viz/Final Project/us-states.json')\n",
    "test.crs"
   ]
  },
  {
   "cell_type": "code",
   "execution_count": null,
   "metadata": {},
   "outputs": [],
   "source": [
    "merged_df2 = merged_df2.to_crs(test.crs)"
   ]
  },
  {
   "cell_type": "code",
   "execution_count": null,
   "metadata": {},
   "outputs": [],
   "source": [
    "joined = gpd.sjoin(merged_df2, test, how=\"left\", predicate=\"within\")\n",
    "joined.info()"
   ]
  },
  {
   "cell_type": "code",
   "execution_count": null,
   "metadata": {},
   "outputs": [],
   "source": [
    "t = joined[joined['STATEFP'] == '01']\n",
    "t"
   ]
  },
  {
   "cell_type": "code",
   "execution_count": null,
   "metadata": {},
   "outputs": [],
   "source": [
    "joined.loc[joined['STATEFP'] == '15', 'name'] = 'Hawaii'\n",
    "joined[joined['STATEFP'] == '15']"
   ]
  },
  {
   "cell_type": "code",
   "execution_count": null,
   "metadata": {},
   "outputs": [],
   "source": [
    "joined[joined['STATEFP'] == '01']"
   ]
  },
  {
   "cell_type": "markdown",
   "metadata": {},
   "source": [
    "## Save file"
   ]
  },
  {
   "cell_type": "code",
   "execution_count": null,
   "metadata": {},
   "outputs": [],
   "source": [
    "joined.to_file('finance_poverty_school_districts_FINAL.geojson')"
   ]
  },
  {
   "cell_type": "markdown",
   "metadata": {},
   "source": [
    "# Join by state"
   ]
  },
  {
   "cell_type": "code",
   "execution_count": null,
   "metadata": {},
   "outputs": [],
   "source": [
    "result = joined.groupby(['STATEFP','name']).agg(\n",
    "    Total_Revenue=('Total Revenue', 'sum'),\n",
    "    Total_Fedreal_Revenue=('Total Fedreal Revenue', 'sum'),\n",
    "    Total_State_Revenue=('Total State Revenue', 'sum'),\n",
    "    Total_Local_Revenue=('rev_local_total', 'sum'),\n",
    "    Total_Expenditure=('Total Expenditure', 'sum'),\n",
    "    Total_Current_Expenditures_Education=('Total current expenditures for elementary and secondary education', 'sum'),\n",
    "    Number_of_Students=('Number of students attending school within the reporting local education agency', 'sum'),\n",
    "    Exp_Current_RESA=('exp_current_resa', 'sum'),\n",
    "    Estimated_Total_Population=('Estimated total population', 'sum'),\n",
    "    Estimated_School_Age_Population=('Estimated total population ages 5-17', 'sum'),\n",
    "    Estimated_School_Age_Poverty=('Estimated population ages 5-17 in poverty', 'sum'),\n",
    "    School_Age_Poverty_Share=('Share of school-age population (ages 5-17) in poverty', 'sum'),\n",
    "    School_Age_Share_Population=('Share of population that is school age (ages 5-17)', 'sum')\n",
    ")\n",
    "result\n",
    "# for col in result.columns[:6]:\n",
    "#     result[col] = result[col].apply(lambda x: x * 1e-6)\n",
    "\n",
    "result"
   ]
  },
  {
   "cell_type": "code",
   "execution_count": null,
   "metadata": {},
   "outputs": [],
   "source": [
    "t = joined[joined['STATEFP'] == '15']\n",
    "t['name'].unique()"
   ]
  },
  {
   "cell_type": "code",
   "execution_count": null,
   "metadata": {},
   "outputs": [],
   "source": []
  }
 ],
 "metadata": {
  "kernelspec": {
   "display_name": "myenv",
   "language": "python",
   "name": "python3"
  },
  "language_info": {
   "codemirror_mode": {
    "name": "ipython",
    "version": 3
   },
   "file_extension": ".py",
   "mimetype": "text/x-python",
   "name": "python",
   "nbconvert_exporter": "python",
   "pygments_lexer": "ipython3",
   "version": "3.8.18"
  }
 },
 "nbformat": 4,
 "nbformat_minor": 2
}
